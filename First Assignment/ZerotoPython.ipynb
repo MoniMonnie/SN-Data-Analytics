{
 "cells": [
  {
   "cell_type": "code",
   "execution_count": 1,
   "id": "subjective-nerve",
   "metadata": {},
   "outputs": [
    {
     "data": {
      "text/plain": [
       "5"
      ]
     },
     "execution_count": 1,
     "metadata": {},
     "output_type": "execute_result"
    }
   ],
   "source": [
    "2 + 3"
   ]
  },
  {
   "cell_type": "code",
   "execution_count": 7,
   "id": "colonial-essay",
   "metadata": {},
   "outputs": [],
   "source": [
    "a = 5"
   ]
  },
  {
   "cell_type": "code",
   "execution_count": 9,
   "id": "banned-neighbor",
   "metadata": {},
   "outputs": [
    {
     "data": {
      "text/plain": [
       "1"
      ]
     },
     "execution_count": 9,
     "metadata": {},
     "output_type": "execute_result"
    }
   ],
   "source": [
    "a % 2"
   ]
  },
  {
   "cell_type": "code",
   "execution_count": 10,
   "id": "athletic-flooring",
   "metadata": {},
   "outputs": [],
   "source": [
    "a = 23 + 32 + 64"
   ]
  },
  {
   "cell_type": "code",
   "execution_count": 11,
   "id": "mighty-grammar",
   "metadata": {},
   "outputs": [
    {
     "data": {
      "text/plain": [
       "39.666666666666664"
      ]
     },
     "execution_count": 11,
     "metadata": {},
     "output_type": "execute_result"
    }
   ],
   "source": [
    "a / 3"
   ]
  },
  {
   "cell_type": "code",
   "execution_count": 12,
   "id": "quick-grass",
   "metadata": {},
   "outputs": [],
   "source": [
    "a = 9 * 7"
   ]
  },
  {
   "cell_type": "code",
   "execution_count": 13,
   "id": "seeing-stuff",
   "metadata": {},
   "outputs": [],
   "source": [
    "b = 5 * 7"
   ]
  },
  {
   "cell_type": "code",
   "execution_count": 19,
   "id": "significant-personal",
   "metadata": {},
   "outputs": [
    {
     "data": {
      "text/plain": [
       "98"
      ]
     },
     "execution_count": 19,
     "metadata": {},
     "output_type": "execute_result"
    }
   ],
   "source": [
    "a + b"
   ]
  },
  {
   "cell_type": "code",
   "execution_count": 20,
   "id": "arctic-testament",
   "metadata": {},
   "outputs": [
    {
     "data": {
      "text/plain": [
       "-4"
      ]
     },
     "execution_count": 20,
     "metadata": {},
     "output_type": "execute_result"
    }
   ],
   "source": [
    "98 - (17 * 6)"
   ]
  },
  {
   "cell_type": "code",
   "execution_count": 21,
   "id": "great-ladder",
   "metadata": {},
   "outputs": [],
   "source": [
    "Length = 5"
   ]
  },
  {
   "cell_type": "code",
   "execution_count": 24,
   "id": "supported-secondary",
   "metadata": {},
   "outputs": [],
   "source": [
    "Width = 6\n",
    "Height = 5"
   ]
  },
  {
   "cell_type": "code",
   "execution_count": 26,
   "id": "following-milton",
   "metadata": {},
   "outputs": [
    {
     "data": {
      "text/plain": [
       "150"
      ]
     },
     "execution_count": 26,
     "metadata": {},
     "output_type": "execute_result"
    }
   ],
   "source": [
    "Length * Width * Height"
   ]
  },
  {
   "cell_type": "code",
   "execution_count": 27,
   "id": "accepting-advice",
   "metadata": {},
   "outputs": [
    {
     "name": "stdout",
     "output_type": "stream",
     "text": [
      "162\n"
     ]
    }
   ],
   "source": [
    "length, width, height = 3, 6, 9\n",
    "volume = length * width * height\n",
    "print (volume)"
   ]
  },
  {
   "cell_type": "code",
   "execution_count": 28,
   "id": "rapid-turning",
   "metadata": {},
   "outputs": [
    {
     "name": "stdout",
     "output_type": "stream",
     "text": [
      "15\n"
     ]
    }
   ],
   "source": [
    "x = 5\n",
    "x *= 3\n",
    "print (x)"
   ]
  },
  {
   "cell_type": "code",
   "execution_count": 29,
   "id": "facial-purchase",
   "metadata": {},
   "outputs": [
    {
     "name": "stdout",
     "output_type": "stream",
     "text": [
      "4500000.0\n"
     ]
    }
   ],
   "source": [
    "rainfall = 5e6\n",
    "rainfall -= rainfall * 0.1\n",
    "print (rainfall)"
   ]
  },
  {
   "cell_type": "code",
   "execution_count": null,
   "id": "controversial-consumer",
   "metadata": {},
   "outputs": [],
   "source": []
  }
 ],
 "metadata": {
  "kernelspec": {
   "display_name": "Python 3",
   "language": "python",
   "name": "python3"
  },
  "language_info": {
   "codemirror_mode": {
    "name": "ipython",
    "version": 3
   },
   "file_extension": ".py",
   "mimetype": "text/x-python",
   "name": "python",
   "nbconvert_exporter": "python",
   "pygments_lexer": "ipython3",
   "version": "3.8.5"
  }
 },
 "nbformat": 4,
 "nbformat_minor": 5
}
